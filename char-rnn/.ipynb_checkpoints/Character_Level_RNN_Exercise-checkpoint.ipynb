{
 "cells": [
  {
   "cell_type": "markdown",
   "metadata": {},
   "source": [
    "# Character-Level LSTM in PyTorch\n",
    "\n",
    "In this notebook, I'll construct a character-level LSTM with PyTorch. The network will train character by character on some text, then generate new text character by character. As an example, I will train on Anna Karenina. **This model will be able to generate new text based on the text from the book!**\n",
    "\n",
    "This network is based off of Andrej Karpathy's [post on RNNs](http://karpathy.github.io/2015/05/21/rnn-effectiveness/) and [implementation in Torch](https://github.com/karpathy/char-rnn). Below is the general architecture of the character-wise RNN.\n",
    "\n",
    "<img src=\"assets/charseq.jpeg\" width=\"500\">"
   ]
  },
  {
   "cell_type": "markdown",
   "metadata": {},
   "source": [
    "First let's load in our required resources for data loading and model creation."
   ]
  },
  {
   "cell_type": "code",
   "execution_count": 1,
   "metadata": {},
   "outputs": [],
   "source": [
    "import numpy as np\n",
    "import torch\n",
    "from torch import nn\n",
    "import torch.nn.functional as F"
   ]
  },
  {
   "cell_type": "markdown",
   "metadata": {},
   "source": [
    "## Load in Data\n",
    "\n",
    "Then, we'll load the Anna Karenina text file and convert it into integers for our network to use. "
   ]
  },
  {
   "cell_type": "code",
   "execution_count": 2,
   "metadata": {},
   "outputs": [],
   "source": [
    "# open text file and read in data as `text`\n",
    "with open('data/anna.txt', 'r') as f:\n",
    "    text = f.read()"
   ]
  },
  {
   "cell_type": "markdown",
   "metadata": {},
   "source": [
    "Let's check out the first 100 characters, make sure everything is peachy. According to the [American Book Review](http://americanbookreview.org/100bestlines.asp), this is the 6th best first line of a book ever."
   ]
  },
  {
   "cell_type": "code",
   "execution_count": 3,
   "metadata": {},
   "outputs": [
    {
     "data": {
      "text/plain": [
       "'Chapter 1\\n\\n\\nHappy families are all alike; every unhappy family is unhappy in its own\\nway.\\n\\nEverythin'"
      ]
     },
     "execution_count": 3,
     "metadata": {},
     "output_type": "execute_result"
    }
   ],
   "source": [
    "text[:100]"
   ]
  },
  {
   "cell_type": "markdown",
   "metadata": {},
   "source": [
    "### Tokenization\n",
    "\n",
    "In the cells, below, I'm creating a couple **dictionaries** to convert the characters to and from integers. Encoding the characters as integers makes it easier to use as input in the network."
   ]
  },
  {
   "cell_type": "code",
   "execution_count": 4,
   "metadata": {},
   "outputs": [
    {
     "name": "stdout",
     "output_type": "stream",
     "text": [
      "{0: 'w', 1: 'x', 2: '_', 3: '1', 4: 'U', 5: '@', 6: 'D', 7: '?', 8: '7', 9: 'O', 10: '\\n', 11: '`', 12: '$', 13: 'p', 14: 'l', 15: 'J', 16: '*', 17: ';', 18: 'v', 19: '8', 20: 'u', 21: '4', 22: 'W', 23: '\"', 24: 'y', 25: 'R', 26: ',', 27: ':', 28: 'V', 29: 'P', 30: 's', 31: 'A', 32: 'Q', 33: 't', 34: '/', 35: 'L', 36: 'H', 37: 'Y', 38: 'm', 39: '3', 40: 'B', 41: ')', 42: 'E', 43: 'n', 44: '6', 45: 'e', 46: 'i', 47: '!', 48: '2', 49: '.', 50: '9', 51: 'q', 52: 'a', 53: 'f', 54: 'c', 55: '%', 56: 'F', 57: 'o', 58: '-', 59: 'M', 60: 'T', 61: '(', 62: 'X', 63: '0', 64: 'j', 65: 'C', 66: 'g', 67: 'z', 68: \"'\", 69: 'N', 70: 'h', 71: 'b', 72: 'S', 73: '&', 74: 'r', 75: ' ', 76: '5', 77: 'I', 78: 'G', 79: 'Z', 80: 'k', 81: 'd', 82: 'K'}\n",
      "{'w': 0, 'x': 1, '_': 2, '1': 3, 'U': 4, '@': 5, 'D': 6, '?': 7, '7': 8, 'O': 9, '\\n': 10, '`': 11, '$': 12, 'p': 13, 'l': 14, 'J': 15, '*': 16, ';': 17, 'v': 18, '8': 19, 'u': 20, '4': 21, 'W': 22, '\"': 23, 'y': 24, 'R': 25, ',': 26, ':': 27, 'V': 28, 'P': 29, 's': 30, 'A': 31, 'Q': 32, 't': 33, '/': 34, 'L': 35, 'H': 36, 'Y': 37, 'm': 38, '3': 39, 'B': 40, ')': 41, 'E': 42, 'n': 43, '6': 44, 'e': 45, 'i': 46, '!': 47, '2': 48, '.': 49, '9': 50, 'q': 51, 'a': 52, 'f': 53, 'c': 54, '%': 55, 'F': 56, 'o': 57, '-': 58, 'M': 59, 'T': 60, '(': 61, 'X': 62, '0': 63, 'j': 64, 'C': 65, 'g': 66, 'z': 67, \"'\": 68, 'N': 69, 'h': 70, 'b': 71, 'S': 72, '&': 73, 'r': 74, ' ': 75, '5': 76, 'I': 77, 'G': 78, 'Z': 79, 'k': 80, 'd': 81, 'K': 82}\n"
     ]
    }
   ],
   "source": [
    "# encode the text and map each character to an integer and vice versa\n",
    "\n",
    "# we create two dictionaries:\n",
    "# 1. int2char, which maps integers to characters\n",
    "# 2. char2int, which maps characters to unique integers\n",
    "chars = tuple(set(text))\n",
    "int2char = dict(enumerate(chars))\n",
    "char2int = {ch: ii for ii, ch in int2char.items()}\n",
    "\n",
    "# encode the text\n",
    "encoded = np.array([char2int[ch] for ch in text])\n",
    "print(int2char)\n",
    "print(char2int)"
   ]
  },
  {
   "cell_type": "markdown",
   "metadata": {},
   "source": [
    "And we can see those same characters from above, encoded as integers."
   ]
  },
  {
   "cell_type": "code",
   "execution_count": 5,
   "metadata": {},
   "outputs": [
    {
     "data": {
      "text/plain": [
       "array([65, 70, 52, 13, 33, 45, 74, 75,  3, 10, 10, 10, 36, 52, 13, 13, 24,\n",
       "       75, 53, 52, 38, 46, 14, 46, 45, 30, 75, 52, 74, 45, 75, 52, 14, 14,\n",
       "       75, 52, 14, 46, 80, 45, 17, 75, 45, 18, 45, 74, 24, 75, 20, 43, 70,\n",
       "       52, 13, 13, 24, 75, 53, 52, 38, 46, 14, 24, 75, 46, 30, 75, 20, 43,\n",
       "       70, 52, 13, 13, 24, 75, 46, 43, 75, 46, 33, 30, 75, 57,  0, 43, 10,\n",
       "        0, 52, 24, 49, 10, 10, 42, 18, 45, 74, 24, 33, 70, 46, 43])"
      ]
     },
     "execution_count": 5,
     "metadata": {},
     "output_type": "execute_result"
    }
   ],
   "source": [
    "encoded[:100]"
   ]
  },
  {
   "cell_type": "markdown",
   "metadata": {},
   "source": [
    "## Pre-processing the data\n",
    "\n",
    "As you can see in our char-RNN image above, our LSTM expects an input that is **one-hot encoded** meaning that each character is converted into an integer (via our created dictionary) and *then* converted into a column vector where only it's corresponding integer index will have the value of 1 and the rest of the vector will be filled with 0's. Since we're one-hot encoding the data, let's make a function to do that!\n"
   ]
  },
  {
   "cell_type": "code",
   "execution_count": 6,
   "metadata": {},
   "outputs": [],
   "source": [
    "def one_hot_encode(arr, n_labels):\n",
    "    \n",
    "    # Initialize the the encoded array\n",
    "    one_hot = np.zeros((arr.size, n_labels), dtype=np.float32)\n",
    "    \n",
    "    # Fill the appropriate elements with ones\n",
    "    one_hot[np.arange(one_hot.shape[0]), arr.flatten()] = 1.\n",
    "    \n",
    "    # Finally reshape it to get back to the original array\n",
    "    one_hot = one_hot.reshape((*arr.shape, n_labels))\n",
    "    \n",
    "    return one_hot"
   ]
  },
  {
   "cell_type": "code",
   "execution_count": 7,
   "metadata": {},
   "outputs": [
    {
     "name": "stdout",
     "output_type": "stream",
     "text": [
      "[[[0. 0. 0. 1. 0. 0. 0. 0.]\n",
      "  [0. 0. 0. 0. 0. 1. 0. 0.]\n",
      "  [0. 1. 0. 0. 0. 0. 0. 0.]]]\n"
     ]
    }
   ],
   "source": [
    "# check that the function works as expected\n",
    "test_seq = np.array([[3, 5, 1]])\n",
    "one_hot = one_hot_encode(test_seq, 8)\n",
    "\n",
    "print(one_hot)"
   ]
  },
  {
   "cell_type": "markdown",
   "metadata": {},
   "source": [
    "## Making training mini-batches\n",
    "\n",
    "\n",
    "To train on this data, we also want to create mini-batches for training. Remember that we want our batches to be multiple sequences of some desired number of sequence steps. Considering a simple example, our batches would look like this:\n",
    "\n",
    "<img src=\"assets/sequence_batching@1x.png\" width=500px>\n",
    "\n",
    "\n",
    "<br>\n",
    "\n",
    "In this example, we'll take the encoded characters (passed in as the `arr` parameter) and split them into multiple sequences, given by `batch_size`. Each of our sequences will be `seq_length` long.\n",
    "\n",
    "### Creating Batches\n",
    "\n",
    "**1. The first thing we need to do is discard some of the text so we only have completely full mini-batches. **\n",
    "\n",
    "Each batch contains $N \\times M$ characters, where $N$ is the batch size (the number of sequences in a batch) and $M$ is the seq_length or number of time steps in a sequence. Then, to get the total number of batches, $K$, that we can make from the array `arr`, you divide the length of `arr` by the number of characters per batch. Once you know the number of batches, you can get the total number of characters to keep from `arr`, $N * M * K$.\n",
    "\n",
    "**2. After that, we need to split `arr` into $N$ batches. ** \n",
    "\n",
    "You can do this using `arr.reshape(size)` where `size` is a tuple containing the dimensions sizes of the reshaped array. We know we want $N$ sequences in a batch, so let's make that the size of the first dimension. For the second dimension, you can use `-1` as a placeholder in the size, it'll fill up the array with the appropriate data for you. After this, you should have an array that is $N \\times (M * K)$.\n",
    "\n",
    "**3. Now that we have this array, we can iterate through it to get our mini-batches. **\n",
    "\n",
    "The idea is each batch is a $N \\times M$ window on the $N \\times (M * K)$ array. For each subsequent batch, the window moves over by `seq_length`. We also want to create both the input and target arrays. Remember that the targets are just the inputs shifted over by one character. The way I like to do this window is use `range` to take steps of size `n_steps` from $0$ to `arr.shape[1]`, the total number of tokens in each sequence. That way, the integers you get from `range` always point to the start of a batch, and each window is `seq_length` wide.\n",
    "\n",
    "> **TODO:** Write the code for creating batches in the function below. The exercises in this notebook _will not be easy_. I've provided a notebook with solutions alongside this notebook. If you get stuck, checkout the solutions. The most important thing is that you don't copy and paste the code into here, **type out the solution code yourself.**"
   ]
  },
  {
   "cell_type": "code",
   "execution_count": 8,
   "metadata": {},
   "outputs": [],
   "source": [
    "def get_batches(arr, batch_size, seq_length):\n",
    "    '''Create a generator that returns batches of size\n",
    "       batch_size x seq_length from arr.\n",
    "       \n",
    "       Arguments\n",
    "       ---------\n",
    "       arr: Array you want to make batches from\n",
    "       batch_size: Batch size, the number of sequences per batch\n",
    "       seq_length: Number of encoded chars in a sequence\n",
    "    '''\n",
    "    \n",
    "    ## TODO: Get the number of batches we can make\n",
    "    n_batches = arr.size//(batch_size*seq_length)\n",
    "    #print(n_batches)\n",
    "    \n",
    "    ## TODO: Keep only enough characters to make full batches\n",
    "\n",
    "    arr = arr[:n_batches*batch_size*seq_length]\n",
    "    \n",
    "    ## TODO: Reshape into batch_size rows\n",
    "    arr = arr.reshape(batch_size, -1)\n",
    "    \n",
    "    ## TODO: Iterate over the batches using a window of size seq_length\n",
    "    for n in range(0, arr.shape[1], seq_length):\n",
    "        # The feature\n",
    "        x = arr[:, n:(n+seq_length)] #moves one by one, because it's character-wise\n",
    "\n",
    "        # The targets, shifted by one\n",
    "        y = np.zeros_like(x)    \n",
    "        try:\n",
    "            y[:, :-1] = x[:, 1:]\n",
    "            y[:, -1] = arr[:, n+seq_length] #indexing starts at zero\n",
    "\n",
    "        except IndexError:\n",
    "            #print(\"error\")\n",
    "            y[:, :-1] = x[:, 1:]\n",
    "            y[:, -1] =  arr[:, 0]\n",
    "  \n",
    "        yield x, y\n",
    "        \n"
   ]
  },
  {
   "cell_type": "markdown",
   "metadata": {},
   "source": [
    "### Test Your Implementation\n",
    "\n",
    "Now I'll make some data sets and we can check out what's going on as we batch data. Here, as an example, I'm going to use a batch size of 8 and 50 sequence steps."
   ]
  },
  {
   "cell_type": "code",
   "execution_count": 9,
   "metadata": {},
   "outputs": [],
   "source": [
    "batches = get_batches(encoded, 8, 50)"
   ]
  },
  {
   "cell_type": "code",
   "execution_count": 10,
   "metadata": {},
   "outputs": [],
   "source": [
    "x, y = next(batches)"
   ]
  },
  {
   "cell_type": "code",
   "execution_count": 11,
   "metadata": {},
   "outputs": [
    {
     "name": "stdout",
     "output_type": "stream",
     "text": [
      "x\n",
      " [[65 70 52 13 33 45 74 75  3 10]\n",
      " [30 57 43 75 33 70 52 33 75 52]\n",
      " [45 43 81 75 57 74 75 52 75 53]\n",
      " [30 75 33 70 45 75 54 70 46 45]\n",
      " [75 30 52  0 75 70 45 74 75 33]\n",
      " [54 20 30 30 46 57 43 75 52 43]\n",
      " [75 31 43 43 52 75 70 52 81 75]\n",
      " [ 9 71 14 57 43 30 80 24 49 75]]\n",
      "\n",
      "y\n",
      " [[70 52 13 33 45 74 75  3 10 10]\n",
      " [57 43 75 33 70 52 33 75 52 33]\n",
      " [43 81 75 57 74 75 52 75 53 57]\n",
      " [75 33 70 45 75 54 70 46 45 53]\n",
      " [30 52  0 75 70 45 74 75 33 45]\n",
      " [20 30 30 46 57 43 75 52 43 81]\n",
      " [31 43 43 52 75 70 52 81 75 30]\n",
      " [71 14 57 43 30 80 24 49 75 23]]\n"
     ]
    }
   ],
   "source": [
    "# printing out the first 10 items in a sequence\n",
    "print('x\\n', x[:10, :10])\n",
    "print('\\ny\\n', y[:10, :10])"
   ]
  },
  {
   "cell_type": "markdown",
   "metadata": {},
   "source": [
    "If you implemented `get_batches` correctly, the above output should look something like \n",
    "```\n",
    "x\n",
    " [[25  8 60 11 45 27 28 73  1  2]\n",
    " [17  7 20 73 45  8 60 45 73 60]\n",
    " [27 20 80 73  7 28 73 60 73 65]\n",
    " [17 73 45  8 27 73 66  8 46 27]\n",
    " [73 17 60 12 73  8 27 28 73 45]\n",
    " [66 64 17 17 46  7 20 73 60 20]\n",
    " [73 76 20 20 60 73  8 60 80 73]\n",
    " [47 35 43  7 20 17 24 50 37 73]]\n",
    "\n",
    "y\n",
    " [[ 8 60 11 45 27 28 73  1  2  2]\n",
    " [ 7 20 73 45  8 60 45 73 60 45]\n",
    " [20 80 73  7 28 73 60 73 65  7]\n",
    " [73 45  8 27 73 66  8 46 27 65]\n",
    " [17 60 12 73  8 27 28 73 45 27]\n",
    " [64 17 17 46  7 20 73 60 20 80]\n",
    " [76 20 20 60 73  8 60 80 73 17]\n",
    " [35 43  7 20 17 24 50 37 73 36]]\n",
    " ```\n",
    " although the exact numbers may be different. Check to make sure the data is shifted over one step for `y`."
   ]
  },
  {
   "cell_type": "markdown",
   "metadata": {},
   "source": [
    "---\n",
    "## Defining the network with PyTorch\n",
    "\n",
    "Below is where you'll define the network.\n",
    "\n",
    "<img src=\"assets/charRNN.png\" width=500px>\n",
    "\n",
    "Next, you'll use PyTorch to define the architecture of the network. We start by defining the layers and operations we want. Then, define a method for the forward pass. You've also been given a method for predicting characters."
   ]
  },
  {
   "cell_type": "markdown",
   "metadata": {},
   "source": [
    "### Model Structure\n",
    "\n",
    "In `__init__` the suggested structure is as follows:\n",
    "* Create and store the necessary dictionaries (this has been done for you)\n",
    "* Define an LSTM layer that takes as params: an input size (the number of characters), a hidden layer size `n_hidden`, a number of layers `n_layers`, a dropout probability `drop_prob`, and a batch_first boolean (True, since we are batching)\n",
    "* Define a dropout layer with `drop_prob`\n",
    "* Define a fully-connected layer with params: input size `n_hidden` and output size (the number of characters)\n",
    "* Finally, initialize the weights (again, this has been given)\n",
    "\n",
    "Note that some parameters have been named and given in the `__init__` function, and we use them and store them by doing something like `self.drop_prob = drop_prob`."
   ]
  },
  {
   "cell_type": "markdown",
   "metadata": {},
   "source": [
    "---\n",
    "### LSTM Inputs/Outputs\n",
    "\n",
    "You can create a basic [LSTM layer](https://pytorch.org/docs/stable/nn.html#lstm) as follows\n",
    "\n",
    "```python\n",
    "self.lstm = nn.LSTM(input_size, n_hidden, n_layers, \n",
    "                            dropout=drop_prob, batch_first=True)\n",
    "```\n",
    "\n",
    "where `input_size` is the number of characters this cell expects to see as sequential input, and `n_hidden` is the number of units in the hidden layers in the cell. And we can add dropout by adding a dropout parameter with a specified probability; this will automatically add dropout to the inputs or outputs. Finally, in the `forward` function, we can stack up the LSTM cells into layers using `.view`. With this, you pass in a list of cells and it will send the output of one cell into the next cell.\n",
    "\n",
    "We also need to create an initial hidden state of all zeros. This is done like so\n",
    "\n",
    "```python\n",
    "self.init_hidden()\n",
    "```"
   ]
  },
  {
   "cell_type": "code",
   "execution_count": 12,
   "metadata": {},
   "outputs": [
    {
     "name": "stdout",
     "output_type": "stream",
     "text": [
      "Training on GPU!\n"
     ]
    }
   ],
   "source": [
    "# check if GPU is available\n",
    "train_on_gpu = torch.cuda.is_available()\n",
    "if(train_on_gpu):\n",
    "    print('Training on GPU!')\n",
    "else: \n",
    "    print('No GPU available, training on CPU; consider making n_epochs very small.')"
   ]
  },
  {
   "cell_type": "code",
   "execution_count": 13,
   "metadata": {},
   "outputs": [],
   "source": [
    "torch.cuda.empty_cache()\n",
    "class CharRNN(nn.Module):\n",
    "    \n",
    "    def __init__(self, tokens, n_hidden=256, n_layers=2,\n",
    "                               drop_prob=0.5, lr=0.001):\n",
    "        super().__init__()\n",
    "        self.drop_prob = drop_prob\n",
    "        self.n_layers = n_layers\n",
    "        self.n_hidden = n_hidden\n",
    "        self.lr = lr\n",
    "        \n",
    "        # creating character dictionaries\n",
    "        self.chars = tokens\n",
    "        self.int2char = dict(enumerate(self.chars))\n",
    "        self.char2int = {ch: ii for ii, ch in self.int2char.items()}\n",
    "        \n",
    "        ## TODO: define the layers of the model\n",
    "        self.input_size = len(self.chars)\n",
    "        self.batch_first = True\n",
    "        print(self.drop_prob)\n",
    "        self.lstm = nn.LSTM(input_size = self.input_size, \n",
    "                            hidden_size = self.n_hidden, \n",
    "                            num_layers = self.n_layers,\n",
    "                            dropout =self.drop_prob, \n",
    "                            batch_first = True)\n",
    "\n",
    "        self.dropout = nn.Dropout(p=self.drop_prob)\n",
    "\n",
    "        self.fc = nn.Linear(n_hidden, len(self.chars))\n",
    "        \n",
    "    def forward(self, x, hidden):\n",
    "        ''' Forward pass through the network. \n",
    "            These inputs are x, and the hidden/cell state `hidden`. '''\n",
    "                \n",
    "        ## TODO: Get the outputs and the new hidden state from the lstm\n",
    "        x, hidden = self.lstm(x, hidden)\n",
    "        x = self.dropout(x)\n",
    "        #print(x.shape)\n",
    "        x = x.contiguous().view(-1, self.n_hidden)\n",
    "        #print(x.shape)\n",
    "        #print(t)\n",
    "        out = self.fc(x)\n",
    "         \n",
    "        # return the final output and the hidden state\n",
    "        return out, hidden\n",
    "    \n",
    "    \n",
    "    def init_hidden(self, batch_size):\n",
    "        ''' Initializes hidden state '''\n",
    "        # Create two new tensors with sizes n_layers x batch_size x n_hidden,\n",
    "        # initialized to zero, for hidden state and cell state of LSTM\n",
    "        weight = next(self.parameters()).data\n",
    "        \n",
    "        if (train_on_gpu):\n",
    "            hidden = (weight.new(self.n_layers, batch_size, self.n_hidden).zero_().cuda(),\n",
    "                  weight.new(self.n_layers, batch_size, self.n_hidden).zero_().cuda())\n",
    "        else:\n",
    "            hidden = (weight.new(self.n_layers, batch_size, self.n_hidden).zero_(),\n",
    "                      weight.new(self.n_layers, batch_size, self.n_hidden).zero_())\n",
    "        \n",
    "        return hidden\n",
    "        "
   ]
  },
  {
   "cell_type": "markdown",
   "metadata": {},
   "source": [
    "## Time to train\n",
    "\n",
    "The train function gives us the ability to set the number of epochs, the learning rate, and other parameters.\n",
    "\n",
    "Below we're using an Adam optimizer and cross entropy loss since we are looking at character class scores as output. We calculate the loss and perform backpropagation, as usual!\n",
    "\n",
    "A couple of details about training: \n",
    ">* Within the batch loop, we detach the hidden state from its history; this time setting it equal to a new *tuple* variable because an LSTM has a hidden state that is a tuple of the hidden and cell states.\n",
    "* We use [`clip_grad_norm_`](https://pytorch.org/docs/stable/_modules/torch/nn/utils/clip_grad.html) to help prevent exploding gradients."
   ]
  },
  {
   "cell_type": "code",
   "execution_count": 14,
   "metadata": {},
   "outputs": [],
   "source": [
    "def train(net, data, epochs=10, batch_size=10, seq_length=50, lr=0.001, clip=5, val_frac=0.1, print_every=10):\n",
    "    ''' Training a network \n",
    "    \n",
    "        Arguments\n",
    "        ---------\n",
    "        \n",
    "        net: CharRNN network\n",
    "        data: text data to train the network\n",
    "        epochs: Number of epochs to train\n",
    "        batch_size: Number of mini-sequences per mini-batch, aka batch size\n",
    "        seq_length: Number of character steps per mini-batch\n",
    "        lr: learning rate\n",
    "        clip: gradient clipping\n",
    "        val_frac: Fraction of data to hold out for validation\n",
    "        print_every: Number of steps for printing training and validation loss\n",
    "    \n",
    "    '''\n",
    "    net.train()\n",
    "    \n",
    "    opt = torch.optim.Adam(net.parameters(), lr=lr)\n",
    "    criterion = nn.CrossEntropyLoss()\n",
    "    \n",
    "    # create training and validation data\n",
    "    val_idx = int(len(data)*(1-val_frac))\n",
    "    data, val_data = data[:val_idx], data[val_idx:]\n",
    "    \n",
    "    if(train_on_gpu):\n",
    "        net.cuda()\n",
    "    \n",
    "    counter = 0\n",
    "    n_chars = len(net.chars)\n",
    "    for e in range(epochs):\n",
    "        # initialize hidden state\n",
    "        h = net.init_hidden(batch_size)\n",
    "        \n",
    "        for x, y in get_batches(data, batch_size, seq_length):\n",
    "            counter += 1\n",
    "            \n",
    "            # One-hot encode our data and make them Torch tensors\n",
    "            x = one_hot_encode(x, n_chars)\n",
    "            inputs, targets = torch.from_numpy(x), torch.from_numpy(y)\n",
    "            \n",
    "            if(train_on_gpu):\n",
    "                inputs, targets = inputs.cuda(), targets.cuda()\n",
    "\n",
    "            # Creating new variables for the hidden state, otherwise\n",
    "            # we'd backprop through the entire training history\n",
    "            h = tuple([each.data for each in h])\n",
    "\n",
    "            # zero accumulated gradients\n",
    "            net.zero_grad()\n",
    "            \n",
    "            # get the output from the model\n",
    "            output, h = net(inputs, h)\n",
    "            \n",
    "            # calculate the loss and perform backprop\n",
    "            loss = criterion(output, targets.view(batch_size*seq_length).long())\n",
    "            loss.backward()\n",
    "            # `clip_grad_norm` helps prevent the exploding gradient problem in RNNs / LSTMs.\n",
    "            nn.utils.clip_grad_norm_(net.parameters(), clip)\n",
    "            opt.step()\n",
    "            \n",
    "            # loss stats\n",
    "            if counter % print_every == 0:\n",
    "                # Get validation loss\n",
    "                val_h = net.init_hidden(batch_size)\n",
    "                val_losses = []\n",
    "                net.eval()\n",
    "                for x, y in get_batches(val_data, batch_size, seq_length):\n",
    "                    # One-hot encode our data and make them Torch tensors\n",
    "                    x = one_hot_encode(x, n_chars)\n",
    "                    x, y = torch.from_numpy(x), torch.from_numpy(y)\n",
    "                    \n",
    "                    # Creating new variables for the hidden state, otherwise\n",
    "                    # we'd backprop through the entire training history\n",
    "                    val_h = tuple([each.data for each in val_h])\n",
    "                    \n",
    "                    inputs, targets = x, y\n",
    "                    if(train_on_gpu):\n",
    "                        inputs, targets = inputs.cuda(), targets.cuda()\n",
    "\n",
    "                    output, val_h = net(inputs, val_h)\n",
    "                    val_loss = criterion(output, targets.view(batch_size*seq_length).long())\n",
    "                \n",
    "                    val_losses.append(val_loss.item())\n",
    "                \n",
    "                net.train() # reset to train mode after iterationg through validation data\n",
    "                \n",
    "                print(\"Epoch: {}/{}...\".format(e+1, epochs),\n",
    "                      \"Step: {}...\".format(counter),\n",
    "                      \"Loss: {:.4f}...\".format(loss.item()),\n",
    "                      \"Val Loss: {:.4f}\".format(np.mean(val_losses)))"
   ]
  },
  {
   "cell_type": "markdown",
   "metadata": {},
   "source": [
    "## Instantiating the model\n",
    "\n",
    "Now we can actually train the network. First we'll create the network itself, with some given hyperparameters. Then, define the mini-batches sizes, and start training!"
   ]
  },
  {
   "cell_type": "code",
   "execution_count": 15,
   "metadata": {},
   "outputs": [
    {
     "name": "stdout",
     "output_type": "stream",
     "text": [
      "0.5\n",
      "CharRNN(\n",
      "  (lstm): LSTM(83, 512, num_layers=2, batch_first=True, dropout=0.5)\n",
      "  (dropout): Dropout(p=0.5, inplace=False)\n",
      "  (fc): Linear(in_features=512, out_features=83, bias=True)\n",
      ")\n"
     ]
    }
   ],
   "source": [
    "## TODO: set your model hyperparameters\n",
    "# define and print the net\n",
    "n_hidden=512\n",
    "n_layers=2\n",
    "\n",
    "net = CharRNN(tokens = chars, n_hidden = n_hidden, n_layers = n_layers)\n",
    "print(net)"
   ]
  },
  {
   "cell_type": "markdown",
   "metadata": {},
   "source": [
    "### Set your training hyperparameters!"
   ]
  },
  {
   "cell_type": "code",
   "execution_count": 16,
   "metadata": {
    "scrolled": true
   },
   "outputs": [
    {
     "name": "stdout",
     "output_type": "stream",
     "text": [
      "Epoch: 1/20... Step: 10... Loss: 3.2778... Val Loss: 3.2090\n",
      "Epoch: 1/20... Step: 20... Loss: 3.1542... Val Loss: 3.1331\n",
      "Epoch: 1/20... Step: 30... Loss: 3.1441... Val Loss: 3.1219\n",
      "Epoch: 1/20... Step: 40... Loss: 3.1178... Val Loss: 3.1197\n",
      "Epoch: 1/20... Step: 50... Loss: 3.1482... Val Loss: 3.1182\n",
      "Epoch: 1/20... Step: 60... Loss: 3.1213... Val Loss: 3.1165\n",
      "Epoch: 1/20... Step: 70... Loss: 3.1082... Val Loss: 3.1151\n",
      "Epoch: 1/20... Step: 80... Loss: 3.1250... Val Loss: 3.1113\n",
      "Epoch: 1/20... Step: 90... Loss: 3.1192... Val Loss: 3.1028\n",
      "Epoch: 1/20... Step: 100... Loss: 3.0955... Val Loss: 3.0831\n",
      "Epoch: 1/20... Step: 110... Loss: 3.0553... Val Loss: 3.0363\n",
      "Epoch: 1/20... Step: 120... Loss: 2.9388... Val Loss: 2.9194\n",
      "Epoch: 1/20... Step: 130... Loss: 2.9252... Val Loss: 2.8895\n",
      "Epoch: 2/20... Step: 140... Loss: 2.8087... Val Loss: 2.7567\n",
      "Epoch: 2/20... Step: 150... Loss: 2.7017... Val Loss: 2.6567\n",
      "Epoch: 2/20... Step: 160... Loss: 2.5993... Val Loss: 2.5644\n",
      "Epoch: 2/20... Step: 170... Loss: 2.5241... Val Loss: 2.5018\n",
      "Epoch: 2/20... Step: 180... Loss: 2.4902... Val Loss: 2.4614\n",
      "Epoch: 2/20... Step: 190... Loss: 2.4383... Val Loss: 2.4262\n",
      "Epoch: 2/20... Step: 200... Loss: 2.4271... Val Loss: 2.4023\n",
      "Epoch: 2/20... Step: 210... Loss: 2.3917... Val Loss: 2.3622\n",
      "Epoch: 2/20... Step: 220... Loss: 2.3630... Val Loss: 2.3333\n",
      "Epoch: 2/20... Step: 230... Loss: 2.3428... Val Loss: 2.3054\n",
      "Epoch: 2/20... Step: 240... Loss: 2.3260... Val Loss: 2.2812\n",
      "Epoch: 2/20... Step: 250... Loss: 2.2609... Val Loss: 2.2579\n",
      "Epoch: 2/20... Step: 260... Loss: 2.2328... Val Loss: 2.2268\n",
      "Epoch: 2/20... Step: 270... Loss: 2.2324... Val Loss: 2.2034\n",
      "Epoch: 3/20... Step: 280... Loss: 2.2309... Val Loss: 2.1811\n",
      "Epoch: 3/20... Step: 290... Loss: 2.1933... Val Loss: 2.1578\n",
      "Epoch: 3/20... Step: 300... Loss: 2.1702... Val Loss: 2.1371\n",
      "Epoch: 3/20... Step: 310... Loss: 2.1460... Val Loss: 2.1174\n",
      "Epoch: 3/20... Step: 320... Loss: 2.1158... Val Loss: 2.0954\n",
      "Epoch: 3/20... Step: 330... Loss: 2.0868... Val Loss: 2.0788\n",
      "Epoch: 3/20... Step: 340... Loss: 2.1027... Val Loss: 2.0611\n",
      "Epoch: 3/20... Step: 350... Loss: 2.0886... Val Loss: 2.0401\n",
      "Epoch: 3/20... Step: 360... Loss: 2.0116... Val Loss: 2.0216\n",
      "Epoch: 3/20... Step: 370... Loss: 2.0372... Val Loss: 2.0024\n",
      "Epoch: 3/20... Step: 380... Loss: 2.0158... Val Loss: 1.9904\n",
      "Epoch: 3/20... Step: 390... Loss: 1.9894... Val Loss: 1.9740\n",
      "Epoch: 3/20... Step: 400... Loss: 1.9589... Val Loss: 1.9538\n",
      "Epoch: 3/20... Step: 410... Loss: 1.9697... Val Loss: 1.9426\n",
      "Epoch: 4/20... Step: 420... Loss: 1.9644... Val Loss: 1.9301\n",
      "Epoch: 4/20... Step: 430... Loss: 1.9465... Val Loss: 1.9082\n",
      "Epoch: 4/20... Step: 440... Loss: 1.9261... Val Loss: 1.9005\n",
      "Epoch: 4/20... Step: 450... Loss: 1.8717... Val Loss: 1.8829\n",
      "Epoch: 4/20... Step: 460... Loss: 1.8565... Val Loss: 1.8745\n",
      "Epoch: 4/20... Step: 470... Loss: 1.8950... Val Loss: 1.8629\n",
      "Epoch: 4/20... Step: 480... Loss: 1.8720... Val Loss: 1.8515\n",
      "Epoch: 4/20... Step: 490... Loss: 1.8808... Val Loss: 1.8394\n",
      "Epoch: 4/20... Step: 500... Loss: 1.8696... Val Loss: 1.8243\n",
      "Epoch: 4/20... Step: 510... Loss: 1.8357... Val Loss: 1.8152\n",
      "Epoch: 4/20... Step: 520... Loss: 1.8529... Val Loss: 1.8044\n",
      "Epoch: 4/20... Step: 530... Loss: 1.8114... Val Loss: 1.7960\n",
      "Epoch: 4/20... Step: 540... Loss: 1.7774... Val Loss: 1.7832\n",
      "Epoch: 4/20... Step: 550... Loss: 1.8185... Val Loss: 1.7737\n",
      "Epoch: 5/20... Step: 560... Loss: 1.7930... Val Loss: 1.7659\n",
      "Epoch: 5/20... Step: 570... Loss: 1.7767... Val Loss: 1.7565\n",
      "Epoch: 5/20... Step: 580... Loss: 1.7472... Val Loss: 1.7505\n",
      "Epoch: 5/20... Step: 590... Loss: 1.7537... Val Loss: 1.7379\n",
      "Epoch: 5/20... Step: 600... Loss: 1.7365... Val Loss: 1.7313\n",
      "Epoch: 5/20... Step: 610... Loss: 1.7305... Val Loss: 1.7267\n",
      "Epoch: 5/20... Step: 620... Loss: 1.7296... Val Loss: 1.7176\n",
      "Epoch: 5/20... Step: 630... Loss: 1.7470... Val Loss: 1.7056\n",
      "Epoch: 5/20... Step: 640... Loss: 1.7111... Val Loss: 1.6977\n",
      "Epoch: 5/20... Step: 650... Loss: 1.6988... Val Loss: 1.6934\n",
      "Epoch: 5/20... Step: 660... Loss: 1.6745... Val Loss: 1.6872\n",
      "Epoch: 5/20... Step: 670... Loss: 1.7054... Val Loss: 1.6779\n",
      "Epoch: 5/20... Step: 680... Loss: 1.6991... Val Loss: 1.6709\n",
      "Epoch: 5/20... Step: 690... Loss: 1.6715... Val Loss: 1.6691\n",
      "Epoch: 6/20... Step: 700... Loss: 1.6747... Val Loss: 1.6571\n",
      "Epoch: 6/20... Step: 710... Loss: 1.6649... Val Loss: 1.6512\n",
      "Epoch: 6/20... Step: 720... Loss: 1.6469... Val Loss: 1.6443\n",
      "Epoch: 6/20... Step: 730... Loss: 1.6562... Val Loss: 1.6383\n",
      "Epoch: 6/20... Step: 740... Loss: 1.6309... Val Loss: 1.6331\n",
      "Epoch: 6/20... Step: 750... Loss: 1.6140... Val Loss: 1.6343\n",
      "Epoch: 6/20... Step: 760... Loss: 1.6476... Val Loss: 1.6232\n",
      "Epoch: 6/20... Step: 770... Loss: 1.6292... Val Loss: 1.6165\n",
      "Epoch: 6/20... Step: 780... Loss: 1.6267... Val Loss: 1.6075\n",
      "Epoch: 6/20... Step: 790... Loss: 1.6036... Val Loss: 1.6046\n",
      "Epoch: 6/20... Step: 800... Loss: 1.6286... Val Loss: 1.5989\n",
      "Epoch: 6/20... Step: 810... Loss: 1.6039... Val Loss: 1.5930\n",
      "Epoch: 6/20... Step: 820... Loss: 1.5662... Val Loss: 1.5890\n",
      "Epoch: 6/20... Step: 830... Loss: 1.6105... Val Loss: 1.5885\n",
      "Epoch: 7/20... Step: 840... Loss: 1.5682... Val Loss: 1.5835\n",
      "Epoch: 7/20... Step: 850... Loss: 1.5893... Val Loss: 1.5789\n",
      "Epoch: 7/20... Step: 860... Loss: 1.5629... Val Loss: 1.5712\n",
      "Epoch: 7/20... Step: 870... Loss: 1.5780... Val Loss: 1.5714\n",
      "Epoch: 7/20... Step: 880... Loss: 1.5707... Val Loss: 1.5676\n",
      "Epoch: 7/20... Step: 890... Loss: 1.5684... Val Loss: 1.5609\n",
      "Epoch: 7/20... Step: 900... Loss: 1.5518... Val Loss: 1.5595\n",
      "Epoch: 7/20... Step: 910... Loss: 1.5270... Val Loss: 1.5518\n",
      "Epoch: 7/20... Step: 920... Loss: 1.5418... Val Loss: 1.5464\n",
      "Epoch: 7/20... Step: 930... Loss: 1.5312... Val Loss: 1.5401\n",
      "Epoch: 7/20... Step: 940... Loss: 1.5445... Val Loss: 1.5384\n",
      "Epoch: 7/20... Step: 950... Loss: 1.5545... Val Loss: 1.5306\n",
      "Epoch: 7/20... Step: 960... Loss: 1.5467... Val Loss: 1.5295\n",
      "Epoch: 7/20... Step: 970... Loss: 1.5544... Val Loss: 1.5271\n",
      "Epoch: 8/20... Step: 980... Loss: 1.5194... Val Loss: 1.5267\n",
      "Epoch: 8/20... Step: 990... Loss: 1.5215... Val Loss: 1.5172\n",
      "Epoch: 8/20... Step: 1000... Loss: 1.5205... Val Loss: 1.5160\n",
      "Epoch: 8/20... Step: 1010... Loss: 1.5556... Val Loss: 1.5176\n",
      "Epoch: 8/20... Step: 1020... Loss: 1.5178... Val Loss: 1.5126\n",
      "Epoch: 8/20... Step: 1030... Loss: 1.5027... Val Loss: 1.5067\n",
      "Epoch: 8/20... Step: 1040... Loss: 1.5085... Val Loss: 1.5125\n",
      "Epoch: 8/20... Step: 1050... Loss: 1.4905... Val Loss: 1.4989\n",
      "Epoch: 8/20... Step: 1060... Loss: 1.4896... Val Loss: 1.4962\n",
      "Epoch: 8/20... Step: 1070... Loss: 1.5003... Val Loss: 1.4926\n",
      "Epoch: 8/20... Step: 1080... Loss: 1.5016... Val Loss: 1.4896\n",
      "Epoch: 8/20... Step: 1090... Loss: 1.4797... Val Loss: 1.4826\n",
      "Epoch: 8/20... Step: 1100... Loss: 1.4697... Val Loss: 1.4830\n",
      "Epoch: 8/20... Step: 1110... Loss: 1.4846... Val Loss: 1.4792\n",
      "Epoch: 9/20... Step: 1120... Loss: 1.4867... Val Loss: 1.4782\n",
      "Epoch: 9/20... Step: 1130... Loss: 1.4853... Val Loss: 1.4722\n",
      "Epoch: 9/20... Step: 1140... Loss: 1.4896... Val Loss: 1.4708\n",
      "Epoch: 9/20... Step: 1150... Loss: 1.5019... Val Loss: 1.4707\n",
      "Epoch: 9/20... Step: 1160... Loss: 1.4586... Val Loss: 1.4678\n",
      "Epoch: 9/20... Step: 1170... Loss: 1.4522... Val Loss: 1.4660\n",
      "Epoch: 9/20... Step: 1180... Loss: 1.4439... Val Loss: 1.4673\n",
      "Epoch: 9/20... Step: 1190... Loss: 1.4894... Val Loss: 1.4615\n",
      "Epoch: 9/20... Step: 1200... Loss: 1.4374... Val Loss: 1.4592\n",
      "Epoch: 9/20... Step: 1210... Loss: 1.4462... Val Loss: 1.4546\n",
      "Epoch: 9/20... Step: 1220... Loss: 1.4478... Val Loss: 1.4550\n",
      "Epoch: 9/20... Step: 1230... Loss: 1.4243... Val Loss: 1.4485\n",
      "Epoch: 9/20... Step: 1240... Loss: 1.4287... Val Loss: 1.4447\n",
      "Epoch: 9/20... Step: 1250... Loss: 1.4388... Val Loss: 1.4451\n",
      "Epoch: 10/20... Step: 1260... Loss: 1.4452... Val Loss: 1.4398\n",
      "Epoch: 10/20... Step: 1270... Loss: 1.4304... Val Loss: 1.4367\n",
      "Epoch: 10/20... Step: 1280... Loss: 1.4414... Val Loss: 1.4362\n",
      "Epoch: 10/20... Step: 1290... Loss: 1.4396... Val Loss: 1.4377\n",
      "Epoch: 10/20... Step: 1300... Loss: 1.4296... Val Loss: 1.4315\n",
      "Epoch: 10/20... Step: 1310... Loss: 1.4295... Val Loss: 1.4311\n",
      "Epoch: 10/20... Step: 1320... Loss: 1.4000... Val Loss: 1.4313\n",
      "Epoch: 10/20... Step: 1330... Loss: 1.4055... Val Loss: 1.4277\n",
      "Epoch: 10/20... Step: 1340... Loss: 1.4001... Val Loss: 1.4233\n"
     ]
    },
    {
     "name": "stdout",
     "output_type": "stream",
     "text": [
      "Epoch: 10/20... Step: 1350... Loss: 1.3888... Val Loss: 1.4196\n",
      "Epoch: 10/20... Step: 1360... Loss: 1.3929... Val Loss: 1.4204\n",
      "Epoch: 10/20... Step: 1370... Loss: 1.3771... Val Loss: 1.4187\n",
      "Epoch: 10/20... Step: 1380... Loss: 1.4245... Val Loss: 1.4141\n",
      "Epoch: 10/20... Step: 1390... Loss: 1.4280... Val Loss: 1.4119\n",
      "Epoch: 11/20... Step: 1400... Loss: 1.4354... Val Loss: 1.4118\n",
      "Epoch: 11/20... Step: 1410... Loss: 1.4370... Val Loss: 1.4090\n",
      "Epoch: 11/20... Step: 1420... Loss: 1.4337... Val Loss: 1.4070\n",
      "Epoch: 11/20... Step: 1430... Loss: 1.3861... Val Loss: 1.4082\n",
      "Epoch: 11/20... Step: 1440... Loss: 1.4225... Val Loss: 1.4050\n",
      "Epoch: 11/20... Step: 1450... Loss: 1.3475... Val Loss: 1.4003\n",
      "Epoch: 11/20... Step: 1460... Loss: 1.3766... Val Loss: 1.4018\n",
      "Epoch: 11/20... Step: 1470... Loss: 1.3697... Val Loss: 1.3999\n",
      "Epoch: 11/20... Step: 1480... Loss: 1.3897... Val Loss: 1.3909\n",
      "Epoch: 11/20... Step: 1490... Loss: 1.3765... Val Loss: 1.3940\n",
      "Epoch: 11/20... Step: 1500... Loss: 1.3518... Val Loss: 1.3921\n",
      "Epoch: 11/20... Step: 1510... Loss: 1.3473... Val Loss: 1.3924\n",
      "Epoch: 11/20... Step: 1520... Loss: 1.3869... Val Loss: 1.3911\n",
      "Epoch: 12/20... Step: 1530... Loss: 1.4395... Val Loss: 1.3854\n",
      "Epoch: 12/20... Step: 1540... Loss: 1.3856... Val Loss: 1.3825\n",
      "Epoch: 12/20... Step: 1550... Loss: 1.3906... Val Loss: 1.3795\n",
      "Epoch: 12/20... Step: 1560... Loss: 1.3949... Val Loss: 1.3756\n",
      "Epoch: 12/20... Step: 1570... Loss: 1.3475... Val Loss: 1.3797\n",
      "Epoch: 12/20... Step: 1580... Loss: 1.3189... Val Loss: 1.3725\n",
      "Epoch: 12/20... Step: 1590... Loss: 1.3271... Val Loss: 1.3714\n",
      "Epoch: 12/20... Step: 1600... Loss: 1.3418... Val Loss: 1.3814\n",
      "Epoch: 12/20... Step: 1610... Loss: 1.3372... Val Loss: 1.3727\n",
      "Epoch: 12/20... Step: 1620... Loss: 1.3367... Val Loss: 1.3684\n",
      "Epoch: 12/20... Step: 1630... Loss: 1.3624... Val Loss: 1.3698\n",
      "Epoch: 12/20... Step: 1640... Loss: 1.3311... Val Loss: 1.3687\n",
      "Epoch: 12/20... Step: 1650... Loss: 1.3134... Val Loss: 1.3662\n",
      "Epoch: 12/20... Step: 1660... Loss: 1.3668... Val Loss: 1.3611\n",
      "Epoch: 13/20... Step: 1670... Loss: 1.3340... Val Loss: 1.3676\n",
      "Epoch: 13/20... Step: 1680... Loss: 1.3466... Val Loss: 1.3584\n",
      "Epoch: 13/20... Step: 1690... Loss: 1.3234... Val Loss: 1.3626\n",
      "Epoch: 13/20... Step: 1700... Loss: 1.3225... Val Loss: 1.3544\n",
      "Epoch: 13/20... Step: 1710... Loss: 1.3060... Val Loss: 1.3545\n",
      "Epoch: 13/20... Step: 1720... Loss: 1.3119... Val Loss: 1.3513\n",
      "Epoch: 13/20... Step: 1730... Loss: 1.3558... Val Loss: 1.3524\n",
      "Epoch: 13/20... Step: 1740... Loss: 1.3198... Val Loss: 1.3493\n",
      "Epoch: 13/20... Step: 1750... Loss: 1.2901... Val Loss: 1.3559\n",
      "Epoch: 13/20... Step: 1760... Loss: 1.3185... Val Loss: 1.3446\n",
      "Epoch: 13/20... Step: 1770... Loss: 1.3398... Val Loss: 1.3496\n",
      "Epoch: 13/20... Step: 1780... Loss: 1.3045... Val Loss: 1.3504\n",
      "Epoch: 13/20... Step: 1790... Loss: 1.2999... Val Loss: 1.3456\n",
      "Epoch: 13/20... Step: 1800... Loss: 1.3142... Val Loss: 1.3478\n",
      "Epoch: 14/20... Step: 1810... Loss: 1.3216... Val Loss: 1.3446\n",
      "Epoch: 14/20... Step: 1820... Loss: 1.3149... Val Loss: 1.3393\n",
      "Epoch: 14/20... Step: 1830... Loss: 1.3365... Val Loss: 1.3373\n",
      "Epoch: 14/20... Step: 1840... Loss: 1.2775... Val Loss: 1.3395\n",
      "Epoch: 14/20... Step: 1850... Loss: 1.2624... Val Loss: 1.3474\n",
      "Epoch: 14/20... Step: 1860... Loss: 1.3235... Val Loss: 1.3362\n",
      "Epoch: 14/20... Step: 1870... Loss: 1.3208... Val Loss: 1.3402\n",
      "Epoch: 14/20... Step: 1880... Loss: 1.3049... Val Loss: 1.3337\n",
      "Epoch: 14/20... Step: 1890... Loss: 1.3301... Val Loss: 1.3374\n",
      "Epoch: 14/20... Step: 1900... Loss: 1.3073... Val Loss: 1.3307\n",
      "Epoch: 14/20... Step: 1910... Loss: 1.3043... Val Loss: 1.3341\n",
      "Epoch: 14/20... Step: 1920... Loss: 1.3098... Val Loss: 1.3352\n",
      "Epoch: 14/20... Step: 1930... Loss: 1.2775... Val Loss: 1.3336\n",
      "Epoch: 14/20... Step: 1940... Loss: 1.3283... Val Loss: 1.3308\n",
      "Epoch: 15/20... Step: 1950... Loss: 1.2937... Val Loss: 1.3288\n",
      "Epoch: 15/20... Step: 1960... Loss: 1.2927... Val Loss: 1.3256\n",
      "Epoch: 15/20... Step: 1970... Loss: 1.2915... Val Loss: 1.3247\n",
      "Epoch: 15/20... Step: 1980... Loss: 1.2837... Val Loss: 1.3300\n",
      "Epoch: 15/20... Step: 1990... Loss: 1.2848... Val Loss: 1.3258\n",
      "Epoch: 15/20... Step: 2000... Loss: 1.2530... Val Loss: 1.3232\n",
      "Epoch: 15/20... Step: 2010... Loss: 1.2812... Val Loss: 1.3253\n",
      "Epoch: 15/20... Step: 2020... Loss: 1.2943... Val Loss: 1.3255\n",
      "Epoch: 15/20... Step: 2030... Loss: 1.2692... Val Loss: 1.3259\n",
      "Epoch: 15/20... Step: 2040... Loss: 1.2764... Val Loss: 1.3184\n",
      "Epoch: 15/20... Step: 2050... Loss: 1.2721... Val Loss: 1.3190\n",
      "Epoch: 15/20... Step: 2060... Loss: 1.2788... Val Loss: 1.3170\n",
      "Epoch: 15/20... Step: 2070... Loss: 1.2858... Val Loss: 1.3161\n",
      "Epoch: 15/20... Step: 2080... Loss: 1.2746... Val Loss: 1.3154\n",
      "Epoch: 16/20... Step: 2090... Loss: 1.2903... Val Loss: 1.3251\n",
      "Epoch: 16/20... Step: 2100... Loss: 1.2673... Val Loss: 1.3165\n",
      "Epoch: 16/20... Step: 2110... Loss: 1.2589... Val Loss: 1.3198\n",
      "Epoch: 16/20... Step: 2120... Loss: 1.2777... Val Loss: 1.3248\n",
      "Epoch: 16/20... Step: 2130... Loss: 1.2472... Val Loss: 1.3137\n",
      "Epoch: 16/20... Step: 2140... Loss: 1.2470... Val Loss: 1.3149\n",
      "Epoch: 16/20... Step: 2150... Loss: 1.2871... Val Loss: 1.3090\n",
      "Epoch: 16/20... Step: 2160... Loss: 1.2559... Val Loss: 1.3093\n",
      "Epoch: 16/20... Step: 2170... Loss: 1.2646... Val Loss: 1.3081\n",
      "Epoch: 16/20... Step: 2180... Loss: 1.2483... Val Loss: 1.3050\n",
      "Epoch: 16/20... Step: 2190... Loss: 1.2740... Val Loss: 1.3068\n",
      "Epoch: 16/20... Step: 2200... Loss: 1.2583... Val Loss: 1.3132\n",
      "Epoch: 16/20... Step: 2210... Loss: 1.2276... Val Loss: 1.3095\n",
      "Epoch: 16/20... Step: 2220... Loss: 1.2650... Val Loss: 1.3101\n",
      "Epoch: 17/20... Step: 2230... Loss: 1.2473... Val Loss: 1.3118\n",
      "Epoch: 17/20... Step: 2240... Loss: 1.2476... Val Loss: 1.3018\n",
      "Epoch: 17/20... Step: 2250... Loss: 1.2363... Val Loss: 1.3060\n",
      "Epoch: 17/20... Step: 2260... Loss: 1.2447... Val Loss: 1.3072\n",
      "Epoch: 17/20... Step: 2270... Loss: 1.2600... Val Loss: 1.3007\n",
      "Epoch: 17/20... Step: 2280... Loss: 1.2674... Val Loss: 1.2997\n",
      "Epoch: 17/20... Step: 2290... Loss: 1.2541... Val Loss: 1.3030\n",
      "Epoch: 17/20... Step: 2300... Loss: 1.2287... Val Loss: 1.2982\n",
      "Epoch: 17/20... Step: 2310... Loss: 1.2348... Val Loss: 1.2989\n",
      "Epoch: 17/20... Step: 2320... Loss: 1.2489... Val Loss: 1.2960\n",
      "Epoch: 17/20... Step: 2330... Loss: 1.2376... Val Loss: 1.2982\n",
      "Epoch: 17/20... Step: 2340... Loss: 1.2660... Val Loss: 1.2961\n",
      "Epoch: 17/20... Step: 2350... Loss: 1.2586... Val Loss: 1.2970\n",
      "Epoch: 17/20... Step: 2360... Loss: 1.2596... Val Loss: 1.2952\n",
      "Epoch: 18/20... Step: 2370... Loss: 1.2331... Val Loss: 1.2988\n",
      "Epoch: 18/20... Step: 2380... Loss: 1.2362... Val Loss: 1.2916\n",
      "Epoch: 18/20... Step: 2390... Loss: 1.2445... Val Loss: 1.2949\n",
      "Epoch: 18/20... Step: 2400... Loss: 1.2663... Val Loss: 1.2928\n",
      "Epoch: 18/20... Step: 2410... Loss: 1.2515... Val Loss: 1.2934\n",
      "Epoch: 18/20... Step: 2420... Loss: 1.2343... Val Loss: 1.2912\n",
      "Epoch: 18/20... Step: 2430... Loss: 1.2471... Val Loss: 1.2933\n",
      "Epoch: 18/20... Step: 2440... Loss: 1.2303... Val Loss: 1.2910\n",
      "Epoch: 18/20... Step: 2450... Loss: 1.2168... Val Loss: 1.2879\n",
      "Epoch: 18/20... Step: 2460... Loss: 1.2401... Val Loss: 1.2929\n",
      "Epoch: 18/20... Step: 2470... Loss: 1.2278... Val Loss: 1.2927\n",
      "Epoch: 18/20... Step: 2480... Loss: 1.2360... Val Loss: 1.2900\n",
      "Epoch: 18/20... Step: 2490... Loss: 1.2099... Val Loss: 1.2826\n",
      "Epoch: 18/20... Step: 2500... Loss: 1.2266... Val Loss: 1.2871\n",
      "Epoch: 19/20... Step: 2510... Loss: 1.2261... Val Loss: 1.2866\n",
      "Epoch: 19/20... Step: 2520... Loss: 1.2370... Val Loss: 1.2829\n",
      "Epoch: 19/20... Step: 2530... Loss: 1.2463... Val Loss: 1.2828\n",
      "Epoch: 19/20... Step: 2540... Loss: 1.2608... Val Loss: 1.2852\n",
      "Epoch: 19/20... Step: 2550... Loss: 1.2093... Val Loss: 1.2861\n",
      "Epoch: 19/20... Step: 2560... Loss: 1.2328... Val Loss: 1.2807\n",
      "Epoch: 19/20... Step: 2570... Loss: 1.2114... Val Loss: 1.2871\n",
      "Epoch: 19/20... Step: 2580... Loss: 1.2511... Val Loss: 1.2824\n",
      "Epoch: 19/20... Step: 2590... Loss: 1.2233... Val Loss: 1.2787\n",
      "Epoch: 19/20... Step: 2600... Loss: 1.2134... Val Loss: 1.2847\n",
      "Epoch: 19/20... Step: 2610... Loss: 1.2258... Val Loss: 1.2855\n",
      "Epoch: 19/20... Step: 2620... Loss: 1.2089... Val Loss: 1.2804\n",
      "Epoch: 19/20... Step: 2630... Loss: 1.2061... Val Loss: 1.2767\n",
      "Epoch: 19/20... Step: 2640... Loss: 1.2238... Val Loss: 1.2817\n",
      "Epoch: 20/20... Step: 2650... Loss: 1.2206... Val Loss: 1.2818\n"
     ]
    },
    {
     "name": "stdout",
     "output_type": "stream",
     "text": [
      "Epoch: 20/20... Step: 2660... Loss: 1.2288... Val Loss: 1.2752\n",
      "Epoch: 20/20... Step: 2670... Loss: 1.2359... Val Loss: 1.2721\n",
      "Epoch: 20/20... Step: 2680... Loss: 1.2305... Val Loss: 1.2736\n",
      "Epoch: 20/20... Step: 2690... Loss: 1.2130... Val Loss: 1.2732\n",
      "Epoch: 20/20... Step: 2700... Loss: 1.2210... Val Loss: 1.2708\n",
      "Epoch: 20/20... Step: 2710... Loss: 1.1965... Val Loss: 1.2745\n",
      "Epoch: 20/20... Step: 2720... Loss: 1.1949... Val Loss: 1.2738\n",
      "Epoch: 20/20... Step: 2730... Loss: 1.1950... Val Loss: 1.2726\n",
      "Epoch: 20/20... Step: 2740... Loss: 1.1901... Val Loss: 1.2772\n",
      "Epoch: 20/20... Step: 2750... Loss: 1.1943... Val Loss: 1.2796\n",
      "Epoch: 20/20... Step: 2760... Loss: 1.1858... Val Loss: 1.2775\n",
      "Epoch: 20/20... Step: 2770... Loss: 1.2387... Val Loss: 1.2742\n",
      "Epoch: 20/20... Step: 2780... Loss: 1.2446... Val Loss: 1.2692\n"
     ]
    }
   ],
   "source": [
    "batch_size = 128\n",
    "seq_length = 100\n",
    "n_epochs =  20 # start small if you are just testing initial behavior\n",
    "torch.cuda.empty_cache()\n",
    "\n",
    "# train the model\n",
    "train(net, encoded, epochs=n_epochs, batch_size=batch_size, seq_length=seq_length, lr=0.001, print_every=10)"
   ]
  },
  {
   "cell_type": "code",
   "execution_count": 17,
   "metadata": {},
   "outputs": [
    {
     "ename": "NameError",
     "evalue": "name 't' is not defined",
     "output_type": "error",
     "traceback": [
      "\u001b[1;31m---------------------------------------------------------------------------\u001b[0m",
      "\u001b[1;31mNameError\u001b[0m                                 Traceback (most recent call last)",
      "\u001b[1;32m<ipython-input-17-febd3e668534>\u001b[0m in \u001b[0;36m<module>\u001b[1;34m\u001b[0m\n\u001b[1;32m----> 1\u001b[1;33m \u001b[0mprint\u001b[0m\u001b[1;33m(\u001b[0m\u001b[0mt\u001b[0m\u001b[1;33m)\u001b[0m\u001b[1;33m\u001b[0m\u001b[1;33m\u001b[0m\u001b[0m\n\u001b[0m",
      "\u001b[1;31mNameError\u001b[0m: name 't' is not defined"
     ]
    }
   ],
   "source": []
  },
  {
   "cell_type": "markdown",
   "metadata": {},
   "source": [
    "## Getting the best model\n",
    "\n",
    "To set your hyperparameters to get the best performance, you'll want to watch the training and validation losses. If your training loss is much lower than the validation loss, you're overfitting. Increase regularization (more dropout) or use a smaller network. If the training and validation losses are close, you're underfitting so you can increase the size of the network."
   ]
  },
  {
   "cell_type": "markdown",
   "metadata": {},
   "source": [
    "## Hyperparameters\n",
    "\n",
    "Here are the hyperparameters for the network.\n",
    "\n",
    "In defining the model:\n",
    "* `n_hidden` - The number of units in the hidden layers.\n",
    "* `n_layers` - Number of hidden LSTM layers to use.\n",
    "\n",
    "We assume that dropout probability and learning rate will be kept at the default, in this example.\n",
    "\n",
    "And in training:\n",
    "* `batch_size` - Number of sequences running through the network in one pass.\n",
    "* `seq_length` - Number of characters in the sequence the network is trained on. Larger is better typically, the network will learn more long range dependencies. But it takes longer to train. 100 is typically a good number here.\n",
    "* `lr` - Learning rate for training\n",
    "\n",
    "Here's some good advice from Andrej Karpathy on training the network. I'm going to copy it in here for your benefit, but also link to [where it originally came from](https://github.com/karpathy/char-rnn#tips-and-tricks).\n",
    "\n",
    "> ## Tips and Tricks\n",
    "\n",
    ">### Monitoring Validation Loss vs. Training Loss\n",
    ">If you're somewhat new to Machine Learning or Neural Networks it can take a bit of expertise to get good models. The most important quantity to keep track of is the difference between your training loss (printed during training) and the validation loss (printed once in a while when the RNN is run on the validation data (by default every 1000 iterations)). In particular:\n",
    "\n",
    "> - If your training loss is much lower than validation loss then this means the network might be **overfitting**. Solutions to this are to decrease your network size, or to increase dropout. For example you could try dropout of 0.5 and so on.\n",
    "> - If your training/validation loss are about equal then your model is **underfitting**. Increase the size of your model (either number of layers or the raw number of neurons per layer)\n",
    "\n",
    "> ### Approximate number of parameters\n",
    "\n",
    "> The two most important parameters that control the model are `n_hidden` and `n_layers`. I would advise that you always use `n_layers` of either 2/3. The `n_hidden` can be adjusted based on how much data you have. The two important quantities to keep track of here are:\n",
    "\n",
    "> - The number of parameters in your model. This is printed when you start training.\n",
    "> - The size of your dataset. 1MB file is approximately 1 million characters.\n",
    "\n",
    ">These two should be about the same order of magnitude. It's a little tricky to tell. Here are some examples:\n",
    "\n",
    "> - I have a 100MB dataset and I'm using the default parameter settings (which currently print 150K parameters). My data size is significantly larger (100 mil >> 0.15 mil), so I expect to heavily underfit. I am thinking I can comfortably afford to make `n_hidden` larger.\n",
    "> - I have a 10MB dataset and running a 10 million parameter model. I'm slightly nervous and I'm carefully monitoring my validation loss. If it's larger than my training loss then I may want to try to increase dropout a bit and see if that helps the validation loss.\n",
    "\n",
    "> ### Best models strategy\n",
    "\n",
    ">The winning strategy to obtaining very good models (if you have the compute time) is to always err on making the network larger (as large as you're willing to wait for it to compute) and then try different dropout values (between 0,1). Whatever model has the best validation performance (the loss, written in the checkpoint filename, low is good) is the one you should use in the end.\n",
    "\n",
    ">It is very common in deep learning to run many different models with many different hyperparameter settings, and in the end take whatever checkpoint gave the best validation performance.\n",
    "\n",
    ">By the way, the size of your training and validation splits are also parameters. Make sure you have a decent amount of data in your validation set or otherwise the validation performance will be noisy and not very informative."
   ]
  },
  {
   "cell_type": "markdown",
   "metadata": {},
   "source": [
    "## Checkpoint\n",
    "\n",
    "After training, we'll save the model so we can load it again later if we need too. Here I'm saving the parameters needed to create the same architecture, the hidden layer hyperparameters and the text characters."
   ]
  },
  {
   "cell_type": "code",
   "execution_count": 18,
   "metadata": {},
   "outputs": [],
   "source": [
    "# change the name, for saving multiple files\n",
    "model_name = 'rnn_x_epoch.net'\n",
    "\n",
    "checkpoint = {'n_hidden': net.n_hidden,\n",
    "              'n_layers': net.n_layers,\n",
    "              'state_dict': net.state_dict(),\n",
    "              'tokens': net.chars}\n",
    "\n",
    "with open(model_name, 'wb') as f:\n",
    "    torch.save(checkpoint, f)"
   ]
  },
  {
   "cell_type": "markdown",
   "metadata": {},
   "source": [
    "---\n",
    "## Making Predictions\n",
    "\n",
    "Now that the model is trained, we'll want to sample from it and make predictions about next characters! To sample, we pass in a character and have the network predict the next character. Then we take that character, pass it back in, and get another predicted character. Just keep doing this and you'll generate a bunch of text!\n",
    "\n",
    "### A note on the `predict`  function\n",
    "\n",
    "The output of our RNN is from a fully-connected layer and it outputs a **distribution of next-character scores**.\n",
    "\n",
    "> To actually get the next character, we apply a softmax function, which gives us a *probability* distribution that we can then sample to predict the next character.\n",
    "\n",
    "### Top K sampling\n",
    "\n",
    "Our predictions come from a categorical probability distribution over all the possible characters. We can make the sample text and make it more reasonable to handle (with less variables) by only considering some $K$ most probable characters. This will prevent the network from giving us completely absurd characters while allowing it to introduce some noise and randomness into the sampled text. Read more about [topk, here](https://pytorch.org/docs/stable/torch.html#torch.topk).\n"
   ]
  },
  {
   "cell_type": "code",
   "execution_count": 19,
   "metadata": {},
   "outputs": [],
   "source": [
    "def predict(net, char, h=None, top_k=None):\n",
    "        ''' Given a character, predict the next character.\n",
    "            Returns the predicted character and the hidden state.\n",
    "        '''\n",
    "        \n",
    "        # tensor inputs\n",
    "        x = np.array([[net.char2int[char]]])\n",
    "        x = one_hot_encode(x, len(net.chars))\n",
    "        inputs = torch.from_numpy(x)\n",
    "        \n",
    "        if(train_on_gpu):\n",
    "            inputs = inputs.cuda()\n",
    "        \n",
    "        # detach hidden state from history\n",
    "        h = tuple([each.data for each in h])\n",
    "        # get the output of the model\n",
    "        out, h = net(inputs, h)\n",
    "\n",
    "        # get the character probabilities\n",
    "        p = F.softmax(out, dim=1).data\n",
    "        if(train_on_gpu):\n",
    "            p = p.cpu() # move to cpu\n",
    "        \n",
    "        # get top characters\n",
    "        if top_k is None:\n",
    "            top_ch = np.arange(len(net.chars))\n",
    "        else:\n",
    "            p, top_ch = p.topk(top_k)\n",
    "            top_ch = top_ch.numpy().squeeze()\n",
    "        \n",
    "        # select the likely next character with some element of randomness\n",
    "        p = p.numpy().squeeze()\n",
    "        char = np.random.choice(top_ch, p=p/p.sum())\n",
    "        \n",
    "        # return the encoded value of the predicted char and the hidden state\n",
    "        return net.int2char[char], h"
   ]
  },
  {
   "cell_type": "markdown",
   "metadata": {},
   "source": [
    "### Priming and generating text \n",
    "\n",
    "Typically you'll want to prime the network so you can build up a hidden state. Otherwise the network will start out generating characters at random. In general the first bunch of characters will be a little rough since it hasn't built up a long history of characters to predict from."
   ]
  },
  {
   "cell_type": "code",
   "execution_count": 20,
   "metadata": {},
   "outputs": [],
   "source": [
    "def sample(net, size, prime='The', top_k=None):\n",
    "        \n",
    "    if(train_on_gpu):\n",
    "        net.cuda()\n",
    "    else:\n",
    "        net.cpu()\n",
    "    \n",
    "    net.eval() # eval mode\n",
    "    \n",
    "    # First off, run through the prime characters\n",
    "    chars = [ch for ch in prime]\n",
    "    h = net.init_hidden(1)\n",
    "    for ch in prime:\n",
    "        char, h = predict(net, ch, h, top_k=top_k)\n",
    "\n",
    "    chars.append(char)\n",
    "    \n",
    "    # Now pass in the previous character and get a new one\n",
    "    for ii in range(size):\n",
    "        char, h = predict(net, chars[-1], h, top_k=top_k)\n",
    "        chars.append(char)\n",
    "\n",
    "    return ''.join(chars)"
   ]
  },
  {
   "cell_type": "code",
   "execution_count": 21,
   "metadata": {},
   "outputs": [
    {
     "name": "stdout",
     "output_type": "stream",
     "text": [
      "Anna, though\n",
      "it was standing. The despairs of the soft on those hands as a fairh were\n",
      "all assiced the conversation, was already always been simply\n",
      "than to all sisterst as though to say the compasion was the\n",
      "parener a difficulty stands and an armistance of the saying--he had\n",
      "the same a mustle and, which came to the same table and an answer,\n",
      "and so seemed to her. At that sort to the same conversation. The meana\n",
      "thought of that her children almost was any singer than as so as\n",
      "they talked at the carriage, and she was straight to her. The\n",
      "solong-courted his standing and head of which he could\n",
      "be serene, what he should say, and when the meading he had not\n",
      "the same tentrom what had taken a land on the mished's same and her\n",
      "father and having so so that they seemed to be at the same activity, and\n",
      "was sold and dargling in the carriage there was starting, and that the\n",
      "change of the comment of, and she was sound, he had told them.\n",
      "\n",
      "\"Ah., it's always a protection.\"\n",
      "\n",
      "\"What do you know.\"\n",
      "\n",
      "\"Yes, it seems, \n"
     ]
    }
   ],
   "source": [
    "print(sample(net, 1000, prime='Anna', top_k=5))"
   ]
  },
  {
   "cell_type": "markdown",
   "metadata": {},
   "source": [
    "## Loading a checkpoint"
   ]
  },
  {
   "cell_type": "code",
   "execution_count": 22,
   "metadata": {},
   "outputs": [
    {
     "name": "stdout",
     "output_type": "stream",
     "text": [
      "0.5\n"
     ]
    },
    {
     "data": {
      "text/plain": [
       "<All keys matched successfully>"
      ]
     },
     "execution_count": 22,
     "metadata": {},
     "output_type": "execute_result"
    }
   ],
   "source": [
    "# Here we have loaded in a model that trained over 20 epochs `rnn_20_epoch.net`\n",
    "with open('rnn_x_epoch.net', 'rb') as f:\n",
    "    checkpoint = torch.load(f)\n",
    "    \n",
    "loaded = CharRNN(checkpoint['tokens'], n_hidden=checkpoint['n_hidden'], n_layers=checkpoint['n_layers'])\n",
    "loaded.load_state_dict(checkpoint['state_dict'])"
   ]
  },
  {
   "cell_type": "code",
   "execution_count": 23,
   "metadata": {},
   "outputs": [
    {
     "name": "stdout",
     "output_type": "stream",
     "text": [
      "And Levin said,\n",
      "while the drawing room seemed to allow the man, and talking to him\n",
      "when and as to him she was the child of their character. All that\n",
      "he had told him that he had now settled to she was to spokle that\n",
      "he was the first parsianing table, which hid back to her hand.\n",
      "\n",
      "And the sound of an old mustracted humiliation was trying to be sawed to the\n",
      "subjacce of her condition, he was departed in speciage a matter with\n",
      "the from\n",
      "shirts, and had been at the first time and answering the cale,\n",
      "and all, a pocter, and they should be not back to her at its thousand as\n",
      "it seemed, and this she was natural to her and which had been\n",
      "saying. To artact him with the same all the face, but he set\n",
      "on him from their cornisents, that stending at any man.\n",
      "\n",
      "After seeing her he saw to the same\n",
      "sensation in her fearful.\n",
      "\n",
      "\"Ah! I've not changed that I don't went to be so fact,\" he said,\n",
      "and he had said, who had not seen that however could be and had a\n",
      "princess had supposed that the commades opened termert of her.\n",
      "Still still made the fact then the matter was suffering to the\n",
      "counting--to talk to him that well about the brother in the stopes\n",
      "of all shes for him for such things. And there was strong against that\n",
      "house of what was the part and a steps, which to be asleep. He\n",
      "came in the peasants to the past of the mentors in the feature\n",
      "of the sight of his clear, he felt that he was stopping them, went on\n",
      "was the same words in the seased house, he would care of all his face,\n",
      "and with the side of his wife and her face and his fine streets tide\n",
      "in the fact that step her the simplicity of his wife and at the\n",
      "carriage, and asked this troubles and sole thers had begun\n",
      "someing in a place and the man, was all one of the back to his fingers. She\n",
      "stopped him in that satisfaction, and was the peesants if all the carpenter\n",
      "he would not say, he would have no realized the conversation, and he\n",
      "was at the first destrictions, had been so made out the part,\n",
      "and hose worling him, and a little position for strange\n",
      "the same \n"
     ]
    }
   ],
   "source": [
    "# Sample using a loaded model\n",
    "print(sample(loaded, 2000, top_k=5, prime=\"And Levin said\"))"
   ]
  },
  {
   "cell_type": "code",
   "execution_count": null,
   "metadata": {},
   "outputs": [],
   "source": []
  }
 ],
 "metadata": {
  "kernelspec": {
   "display_name": "Python 3",
   "language": "python",
   "name": "python3"
  },
  "language_info": {
   "codemirror_mode": {
    "name": "ipython",
    "version": 3
   },
   "file_extension": ".py",
   "mimetype": "text/x-python",
   "name": "python",
   "nbconvert_exporter": "python",
   "pygments_lexer": "ipython3",
   "version": "3.7.7"
  }
 },
 "nbformat": 4,
 "nbformat_minor": 2
}
